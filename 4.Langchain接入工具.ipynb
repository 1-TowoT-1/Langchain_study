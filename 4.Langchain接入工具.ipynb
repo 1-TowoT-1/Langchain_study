{
 "cells": [
  {
   "cell_type": "code",
   "execution_count": 1,
   "id": "cf5cfd38-0bdc-41c0-b0af-ccc2e9120d78",
   "metadata": {},
   "outputs": [],
   "source": [
    "import pandas as pd\n",
    "from langchain_core.messages import HumanMessage,AIMessage,SystemMessage\n",
    "from langchain_core.prompts import ChatPromptTemplate\n",
    "from langchain_core.output_parsers import StrOutputParser\n",
    "from langchain_ollama import ChatOllama"
   ]
  },
  {
   "cell_type": "markdown",
   "id": "97fabdfd-d41b-4802-b150-a48950e99349",
   "metadata": {},
   "source": [
    "## 一、测试LangChain内置代码解释器工具功能"
   ]
  },
  {
   "cell_type": "code",
   "execution_count": 10,
   "id": "beb64eca-dc16-4db1-b75b-e7a644fdc437",
   "metadata": {},
   "outputs": [],
   "source": [
    "dat = pd.read_csv(\"data/WA_Fn-UseC_-Telco-Customer-Churn.csv\",header=0)\n",
    "\n",
    "from langchain_experimental.tools import PythonAstREPLTool\n",
    "# langchain内置的python解释器，将其功能传递给python_tool变量。\n",
    "python_tool = PythonAstREPLTool(locals={\"df\":dat})\n",
    "python_tool.invoke(\"df['SeniorCitizen'].mean()\")\n",
    "\n",
    "model = ChatOllama(\n",
    "    model = 'llama3.1:8b',\n",
    "    # model = 'deepseek-r1:1.5b', 没有调用tool功能\n",
    "    base_url = 'http://localhost:11434/'\n",
    ")"
   ]
  },
  {
   "cell_type": "code",
   "execution_count": 11,
   "id": "ac86d938-ca7b-4aa9-bc02-e936c9fdaf60",
   "metadata": {},
   "outputs": [
    {
     "data": {
      "text/plain": [
       "ChatOllama(model='llama3.1:8b', base_url='http://localhost:11434/')"
      ]
     },
     "execution_count": 11,
     "metadata": {},
     "output_type": "execute_result"
    }
   ],
   "source": [
    "model"
   ]
  },
  {
   "cell_type": "code",
   "execution_count": 12,
   "id": "203f3e3e-8174-4dc7-b4f0-7a61686e1bf9",
   "metadata": {},
   "outputs": [],
   "source": [
    "# bind_tools 是一个用于将工具（Tools）绑定到可调用对象（如 LLM 或 Chain）上的方法，使得模型能够更好地与外部工具交互。\n",
    "model_with_tool = model.bind_tools([python_tool])\n",
    "response = model_with_tool.invoke(\"请分析'df'这张表，计算有数值的列的平均值。\")"
   ]
  },
  {
   "cell_type": "code",
   "execution_count": 13,
   "id": "3794799d-d55b-4144-8229-be8fa17c0f34",
   "metadata": {},
   "outputs": [
    {
     "data": {
      "text/plain": [
       "AIMessage(content='', additional_kwargs={}, response_metadata={'model': 'llama3.1:8b', 'created_at': '2025-07-11T07:02:28.995452Z', 'done': True, 'done_reason': 'stop', 'total_duration': 29946262400, 'load_duration': 7621630600, 'prompt_eval_count': 216, 'prompt_eval_duration': 11186185000, 'eval_count': 46, 'eval_duration': 11131381400, 'model_name': 'llama3.1:8b'}, id='run--b7963682-daf5-4bb9-8dec-da1338bfba27-0', tool_calls=[{'name': 'python_repl_ast', 'args': {'query': \"import pandas as pd\\npd.DataFrame({'A': [1, 2], 'B': [3, 4]}).describe()\"}, 'id': 'eb2e7072-c1fd-4e5f-afa0-43acfd4248cd', 'type': 'tool_call'}], usage_metadata={'input_tokens': 216, 'output_tokens': 46, 'total_tokens': 262})"
      ]
     },
     "execution_count": 13,
     "metadata": {},
     "output_type": "execute_result"
    }
   ],
   "source": [
    "# 查看response输出，可以看到content内容是空的\n",
    "# ✅ 模型 确实识别并调用了绑定的工具（python_repl_ast）\n",
    "# ✅ df.describe() 是模型产生的代码\n",
    "# ❌ 模型没有返回“人类可读的回答”，即 content 是空的\n",
    "# 调用的是 model_with_tool.invoke(...)，只触发 tool_call，但未执行该工具。\n",
    "response"
   ]
  },
  {
   "cell_type": "code",
   "execution_count": 16,
   "id": "8a480c93-e9e8-4774-a170-91e8e269bb04",
   "metadata": {},
   "outputs": [
    {
     "data": {
      "text/plain": [
       "{'query': \"import pandas as pd\\npd.set_option('display.max_rows', None)\\ndf.describe()\"}"
      ]
     },
     "execution_count": 16,
     "metadata": {},
     "output_type": "execute_result"
    }
   ],
   "source": [
    "from langchain_core.output_parsers.openai_tools import JsonOutputKeyToolsParser\n",
    "parser = JsonOutputKeyToolsParser(key_name=python_tool.name, first_tool_only=True)\n",
    "model_chain = model_with_tool | parser\n",
    "response = model_chain.invoke(\"请分析'df'这张表，计算有数值的列的平均值。\")\n",
    "response"
   ]
  },
  {
   "cell_type": "code",
   "execution_count": 18,
   "id": "4272b0c1-ae7b-4786-adbf-c23d4c2811d6",
   "metadata": {},
   "outputs": [
    {
     "name": "stdout",
     "output_type": "stream",
     "text": [
      "first_tool_only=True key_name='python_repl_ast'\n",
      "first=RunnableBinding(bound=ChatOllama(model='llama3.1:8b', base_url='http://localhost:11434/'), kwargs={'tools': [{'type': 'function', 'function': {'name': 'python_repl_ast', 'description': 'A Python shell. Use this to execute python commands. Input should be a valid python command. When using this tool, sometimes output is abbreviated - make sure it does not look abbreviated before using it in your answer.', 'parameters': {'properties': {'query': {'description': 'code snippet to run', 'type': 'string'}}, 'required': ['query'], 'type': 'object'}}}]}, config={}, config_factories=[]) middle=[] last=JsonOutputKeyToolsParser(first_tool_only=True, key_name='python_repl_ast')\n"
     ]
    }
   ],
   "source": [
    "# JsonOutputKeyToolsParser 从大模型的 function calling / tool calling 结构中，提取你关心的字段（key），并转换为 Python dict，供下一步使用（比如代码执行）。\n",
    "print(parser)\n",
    "print(model_chain)"
   ]
  },
  {
   "cell_type": "code",
   "execution_count": 19,
   "id": "a6f64259-f90b-4a5d-b1e7-523dac79906a",
   "metadata": {},
   "outputs": [],
   "source": [
    "# 所以接下来给出提示词模板，告知大模型需要操作\n",
    "system = f\"\"\"\n",
    "你可以访问一个名为 `df` 的 pandas 数据框，你可以使用df.head().to_markdown() 查看数据集的基本信息， \\\n",
    "请根据用户提出的问题，编写 Python 代码来回答。只返回代码，不返回其他内容。只允许使用 pandas 和内置库。\n",
    "\"\"\"\n",
    "prompt = ChatPromptTemplate([\n",
    "    (\"system\", system),\n",
    "    (\"user\", \"{question}\")\n",
    "])\n",
    "code_chain = prompt | model_with_tool | parser"
   ]
  },
  {
   "cell_type": "markdown",
   "id": "c69b5705-0771-4dd6-8c0a-ab6a044f0123",
   "metadata": {},
   "source": [
    "通过 prompt <font color=red> 向模型提问 → 模型识别你希望它生成可执行代码 → 模型以 Tool 调用的形式返回 {\"query\": \"...\"} → JsonOutputKeyToolsParser 负责提取出这段代码</font></br>\n",
    "最终输出了：{'query': \"df.select_dtypes(include=['number']).mean()\"}"
   ]
  },
  {
   "cell_type": "code",
   "execution_count": 20,
   "id": "9b8d23cb-1ac2-4afd-a333-ece8198e0160",
   "metadata": {},
   "outputs": [
    {
     "data": {
      "text/plain": [
       "{'query': 'df.describe()'}"
      ]
     },
     "execution_count": 20,
     "metadata": {},
     "output_type": "execute_result"
    }
   ],
   "source": [
    "code_chain.invoke({\"question\": \"请分析'df'这张表，计算有数值的列的平均值。\"})"
   ]
  },
  {
   "cell_type": "code",
   "execution_count": 21,
   "id": "34f97428-0ca0-4d8a-97f3-70234dd2ab48",
   "metadata": {},
   "outputs": [
    {
     "data": {
      "text/plain": [
       "'SeniorCitizen      0.162147\\ntenure            32.371149\\nMonthlyCharges    64.761692\\ndtype: float64\\n'"
      ]
     },
     "execution_count": 21,
     "metadata": {},
     "output_type": "execute_result"
    }
   ],
   "source": [
    "chain = code_chain | python_tool\n",
    "chain.invoke({\"question\": \"请分析'df'这张表，计算有数值的列的平均值。\"})"
   ]
  },
  {
   "cell_type": "code",
   "execution_count": 23,
   "id": "6f6b434b-8f9b-414b-8686-ead1b47836e2",
   "metadata": {},
   "outputs": [
    {
     "data": {
      "text/plain": [
       "'gender\\nMale      3555\\nFemale    3488\\nName: count, dtype: int64\\n'"
      ]
     },
     "execution_count": 23,
     "metadata": {},
     "output_type": "execute_result"
    }
   ],
   "source": [
    "chain.invoke({\"question\": \"分析'df'这张表，gender统计信息，每个类别的总数\"})"
   ]
  },
  {
   "cell_type": "raw",
   "id": "2eb26248-4da1-4283-a4eb-51b4aaebeffa",
   "metadata": {
    "jp-MarkdownHeadingCollapsed": true
   },
   "source": [
    "上述操作流程图：\n",
    "[User Input] --> [Prompt Template + df context]\n",
    "                 ↓\n",
    "           [LLM + Function Calling]\n",
    "                 ↓ (工具调用，生成 query 代码)\n",
    "      {\"query\": \"df.mean()\"}  <-- 用 parser 提取\n",
    "                 ↓\n",
    "           [Python Tool 执行代码]\n",
    "                 ↓\n",
    "         [返回 Pandas 计算结果]"
   ]
  }
 ],
 "metadata": {
  "kernelspec": {
   "display_name": "Python (Langchain_test)",
   "language": "python",
   "name": "langchain_test"
  },
  "language_info": {
   "codemirror_mode": {
    "name": "ipython",
    "version": 3
   },
   "file_extension": ".py",
   "mimetype": "text/x-python",
   "name": "python",
   "nbconvert_exporter": "python",
   "pygments_lexer": "ipython3",
   "version": "3.11.13"
  }
 },
 "nbformat": 4,
 "nbformat_minor": 5
}
