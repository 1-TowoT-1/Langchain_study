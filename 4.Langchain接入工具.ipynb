{
 "cells": [
  {
   "cell_type": "code",
   "execution_count": 5,
   "id": "cf5cfd38-0bdc-41c0-b0af-ccc2e9120d78",
   "metadata": {},
   "outputs": [],
   "source": [
    "import pandas as pd\n",
    "import numpy as np\n",
    "from langchain_core.messages import HumanMessage,AIMessage,SystemMessage\n",
    "from langchain_core.prompts import ChatPromptTemplate\n",
    "from langchain_core.output_parsers import StrOutputParser\n",
    "from langchain_ollama import ChatOllama"
   ]
  },
  {
   "cell_type": "markdown",
   "id": "97fabdfd-d41b-4802-b150-a48950e99349",
   "metadata": {},
   "source": [
    "### 一、测试LangChain内置代码解释器工具功能"
   ]
  },
  {
   "cell_type": "code",
   "execution_count": 6,
   "id": "beb64eca-dc16-4db1-b75b-e7a644fdc437",
   "metadata": {},
   "outputs": [],
   "source": [
    "dat = pd.read_csv(\"data/WA_Fn-UseC_-Telco-Customer-Churn.csv\",header=0)\n",
    "\n",
    "from langchain_experimental.tools import PythonAstREPLTool\n",
    "# langchain内置的python解释器，将其功能传递给python_tool变量。\n",
    "python_tool = PythonAstREPLTool(locals={\"df\":dat})\n",
    "python_tool.invoke(\"df['SeniorCitizen'].mean()\")\n",
    "\n",
    "model = ChatOllama(\n",
    "    model = 'llama3.1:8b',\n",
    "    # model = 'deepseek-r1:1.5b', 没有调用tool功能\n",
    "    base_url = 'http://localhost:11434/'\n",
    ")"
   ]
  },
  {
   "cell_type": "code",
   "execution_count": 7,
   "id": "ac86d938-ca7b-4aa9-bc02-e936c9fdaf60",
   "metadata": {},
   "outputs": [
    {
     "data": {
      "text/plain": [
       "ChatOllama(model='llama3.1:8b', base_url='http://localhost:11434/')"
      ]
     },
     "execution_count": 7,
     "metadata": {},
     "output_type": "execute_result"
    }
   ],
   "source": [
    "model"
   ]
  },
  {
   "cell_type": "code",
   "execution_count": 8,
   "id": "203f3e3e-8174-4dc7-b4f0-7a61686e1bf9",
   "metadata": {},
   "outputs": [],
   "source": [
    "# bind_tools 是一个用于将工具（Tools）绑定到可调用对象（如 LLM 或 Chain）上的方法，使得模型能够更好地与外部工具交互。\n",
    "model_with_tool = model.bind_tools([python_tool])\n",
    "response = model_with_tool.invoke(\"请分析'df'这张表，计算有数值的列的平均值。\")"
   ]
  },
  {
   "cell_type": "code",
   "execution_count": 6,
   "id": "3794799d-d55b-4144-8229-be8fa17c0f34",
   "metadata": {},
   "outputs": [
    {
     "data": {
      "text/plain": [
       "AIMessage(content='', additional_kwargs={}, response_metadata={'model': 'llama3.1:8b', 'created_at': '2025-07-14T07:22:46.0370326Z', 'done': True, 'done_reason': 'stop', 'total_duration': 32125815500, 'load_duration': 9169297400, 'prompt_eval_count': 216, 'prompt_eval_duration': 11817326300, 'eval_count': 46, 'eval_duration': 11098755200, 'model_name': 'llama3.1:8b'}, id='run--50ebee79-334e-43b8-aa60-411494600670-0', tool_calls=[{'name': 'python_repl_ast', 'args': {'query': \"import pandas as pd\\npd.DataFrame({'A': [1, 2], 'B': [3, 4]}).describe()\"}, 'id': '22e5fa95-37f5-48ae-98e3-ecf4439eeffa', 'type': 'tool_call'}], usage_metadata={'input_tokens': 216, 'output_tokens': 46, 'total_tokens': 262})"
      ]
     },
     "execution_count": 6,
     "metadata": {},
     "output_type": "execute_result"
    }
   ],
   "source": [
    "# 查看response输出，可以看到content内容是空的\n",
    "# ✅ 模型 确实识别并调用了绑定的工具（python_repl_ast）\n",
    "# ✅ df.describe() 是模型产生的代码\n",
    "# ❌ 模型没有返回“人类可读的回答”，即 content 是空的\n",
    "# 调用的是 model_with_tool.invoke(...)，只触发 tool_call，但未执行该工具。\n",
    "response"
   ]
  },
  {
   "cell_type": "code",
   "execution_count": null,
   "id": "8a480c93-e9e8-4774-a170-91e8e269bb04",
   "metadata": {},
   "outputs": [],
   "source": [
    "from langchain_core.output_parsers.openai_tools import JsonOutputKeyToolsParser\n",
    "parser = JsonOutputKeyToolsParser(key_name=python_tool.name, first_tool_only=True)\n",
    "model_chain = model_with_tool | parser\n",
    "response = model_chain.invoke(\"请分析'df'这张表，计算有数值的列的平均值。\")\n",
    "response"
   ]
  },
  {
   "cell_type": "code",
   "execution_count": 8,
   "id": "4272b0c1-ae7b-4786-adbf-c23d4c2811d6",
   "metadata": {},
   "outputs": [
    {
     "name": "stdout",
     "output_type": "stream",
     "text": [
      "first_tool_only=True key_name='python_repl_ast'\n",
      "first=RunnableBinding(bound=ChatOllama(model='llama3.1:8b', base_url='http://localhost:11434/'), kwargs={'tools': [{'type': 'function', 'function': {'name': 'python_repl_ast', 'description': 'A Python shell. Use this to execute python commands. Input should be a valid python command. When using this tool, sometimes output is abbreviated - make sure it does not look abbreviated before using it in your answer.', 'parameters': {'properties': {'query': {'description': 'code snippet to run', 'type': 'string'}}, 'required': ['query'], 'type': 'object'}}}]}, config={}, config_factories=[]) middle=[] last=JsonOutputKeyToolsParser(first_tool_only=True, key_name='python_repl_ast')\n"
     ]
    }
   ],
   "source": [
    "# JsonOutputKeyToolsParser 从大模型的 function calling / tool calling 结构中，提取你关心的字段（key），并转换为 Python dict，供下一步使用（比如代码执行）。\n",
    "print(parser)\n",
    "print(model_chain)"
   ]
  },
  {
   "cell_type": "code",
   "execution_count": 10,
   "id": "a6f64259-f90b-4a5d-b1e7-523dac79906a",
   "metadata": {},
   "outputs": [],
   "source": [
    "# 所以接下来给出提示词模板，告知大模型需要操作\n",
    "system = f\"\"\"\n",
    "你可以访问一个名为 `df` 的 pandas 数据框，你可以使用df.head().to_markdown() 查看数据集的基本信息， \\\n",
    "请根据用户提出的问题，编写 Python 代码来回答。只返回代码，不返回其他内容。只允许使用 pandas 和内置库。\n",
    "\"\"\"\n",
    "prompt = ChatPromptTemplate([\n",
    "    (\"system\", system),\n",
    "    (\"user\", \"{question}\")\n",
    "])\n",
    "code_chain = prompt | model_with_tool | parser"
   ]
  },
  {
   "cell_type": "markdown",
   "id": "c69b5705-0771-4dd6-8c0a-ab6a044f0123",
   "metadata": {},
   "source": [
    "通过 prompt <font color=red> 向模型提问 → 模型识别你希望它生成可执行代码 → 模型以 Tool 调用的形式返回 {\"query\": \"...\"} → JsonOutputKeyToolsParser 负责提取出这段代码</font></br>\n",
    "最终输出了：{'query': \"df.select_dtypes(include=['number']).mean()\"}"
   ]
  },
  {
   "cell_type": "code",
   "execution_count": 10,
   "id": "9b8d23cb-1ac2-4afd-a333-ece8198e0160",
   "metadata": {},
   "outputs": [
    {
     "data": {
      "text/plain": [
       "{'query': \"df.select_dtypes(include=['number']).mean()\"}"
      ]
     },
     "execution_count": 10,
     "metadata": {},
     "output_type": "execute_result"
    }
   ],
   "source": [
    "code_chain.invoke({\"question\": \"请分析'df'这张表，计算有数值的列的平均值。\"})"
   ]
  },
  {
   "cell_type": "code",
   "execution_count": 13,
   "id": "34f97428-0ca0-4d8a-97f3-70234dd2ab48",
   "metadata": {},
   "outputs": [
    {
     "data": {
      "text/html": [
       "<div>\n",
       "<style scoped>\n",
       "    .dataframe tbody tr th:only-of-type {\n",
       "        vertical-align: middle;\n",
       "    }\n",
       "\n",
       "    .dataframe tbody tr th {\n",
       "        vertical-align: top;\n",
       "    }\n",
       "\n",
       "    .dataframe thead th {\n",
       "        text-align: right;\n",
       "    }\n",
       "</style>\n",
       "<table border=\"1\" class=\"dataframe\">\n",
       "  <thead>\n",
       "    <tr style=\"text-align: right;\">\n",
       "      <th></th>\n",
       "      <th>SeniorCitizen</th>\n",
       "      <th>tenure</th>\n",
       "      <th>MonthlyCharges</th>\n",
       "    </tr>\n",
       "  </thead>\n",
       "  <tbody>\n",
       "    <tr>\n",
       "      <th>count</th>\n",
       "      <td>7043.000000</td>\n",
       "      <td>7043.000000</td>\n",
       "      <td>7043.000000</td>\n",
       "    </tr>\n",
       "    <tr>\n",
       "      <th>mean</th>\n",
       "      <td>0.162147</td>\n",
       "      <td>32.371149</td>\n",
       "      <td>64.761692</td>\n",
       "    </tr>\n",
       "    <tr>\n",
       "      <th>std</th>\n",
       "      <td>0.368612</td>\n",
       "      <td>24.559481</td>\n",
       "      <td>30.090047</td>\n",
       "    </tr>\n",
       "    <tr>\n",
       "      <th>min</th>\n",
       "      <td>0.000000</td>\n",
       "      <td>0.000000</td>\n",
       "      <td>18.250000</td>\n",
       "    </tr>\n",
       "    <tr>\n",
       "      <th>25%</th>\n",
       "      <td>0.000000</td>\n",
       "      <td>9.000000</td>\n",
       "      <td>35.500000</td>\n",
       "    </tr>\n",
       "    <tr>\n",
       "      <th>50%</th>\n",
       "      <td>0.000000</td>\n",
       "      <td>29.000000</td>\n",
       "      <td>70.350000</td>\n",
       "    </tr>\n",
       "    <tr>\n",
       "      <th>75%</th>\n",
       "      <td>0.000000</td>\n",
       "      <td>55.000000</td>\n",
       "      <td>89.850000</td>\n",
       "    </tr>\n",
       "    <tr>\n",
       "      <th>max</th>\n",
       "      <td>1.000000</td>\n",
       "      <td>72.000000</td>\n",
       "      <td>118.750000</td>\n",
       "    </tr>\n",
       "  </tbody>\n",
       "</table>\n",
       "</div>"
      ],
      "text/plain": [
       "       SeniorCitizen       tenure  MonthlyCharges\n",
       "count    7043.000000  7043.000000     7043.000000\n",
       "mean        0.162147    32.371149       64.761692\n",
       "std         0.368612    24.559481       30.090047\n",
       "min         0.000000     0.000000       18.250000\n",
       "25%         0.000000     9.000000       35.500000\n",
       "50%         0.000000    29.000000       70.350000\n",
       "75%         0.000000    55.000000       89.850000\n",
       "max         1.000000    72.000000      118.750000"
      ]
     },
     "execution_count": 13,
     "metadata": {},
     "output_type": "execute_result"
    }
   ],
   "source": [
    "chain = code_chain | python_tool\n",
    "chain.invoke({\"question\": \"请分析'df'这张表，计算有数值的列的平均值。\"})"
   ]
  },
  {
   "cell_type": "code",
   "execution_count": 14,
   "id": "6f6b434b-8f9b-414b-8686-ead1b47836e2",
   "metadata": {},
   "outputs": [
    {
     "data": {
      "text/plain": [
       "'gender\\nMale      3555\\nFemale    3488\\nName: count, dtype: int64\\n'"
      ]
     },
     "execution_count": 14,
     "metadata": {},
     "output_type": "execute_result"
    }
   ],
   "source": [
    "chain.invoke({\"question\": \"分析'df'这张表，gender统计信息，每个类别的总数\"})"
   ]
  },
  {
   "cell_type": "raw",
   "id": "2eb26248-4da1-4283-a4eb-51b4aaebeffa",
   "metadata": {
    "jp-MarkdownHeadingCollapsed": true
   },
   "source": [
    "上述操作流程图：\n",
    "[User Input] --> [Prompt Template + df context]\n",
    "                 ↓\n",
    "           [LLM + Function Calling]\n",
    "                 ↓ (工具调用，生成 query 代码)\n",
    "      {\"query\": \"df.mean()\"}  <-- 用 parser 提取\n",
    "                 ↓\n",
    "           [Python Tool 执行代码]\n",
    "                 ↓\n",
    "         [返回 Pandas 计算结果]"
   ]
  },
  {
   "cell_type": "code",
   "execution_count": 11,
   "id": "bd111612",
   "metadata": {},
   "outputs": [],
   "source": [
    "# 将函数封装成Langchain可以识别的对象\n",
    "from langchain_core.runnables import RunnableLambda\n",
    "def code_print(res):\n",
    "    print(\"即将运行的python代码是\", res['query'])\n",
    "    return res\n",
    "print_code = RunnableLambda(code_print)\n",
    "print_code_chain = prompt | model_with_tool | parser | print_code | python_tool"
   ]
  },
  {
   "cell_type": "code",
   "execution_count": 13,
   "id": "9a90326e",
   "metadata": {},
   "outputs": [
    {
     "name": "stdout",
     "output_type": "stream",
     "text": [
      "即将运行的python代码是 df.select_dtypes(include=['number']).mean()\n"
     ]
    },
    {
     "data": {
      "text/plain": [
       "SeniorCitizen      0.162147\n",
       "tenure            32.371149\n",
       "MonthlyCharges    64.761692\n",
       "dtype: float64"
      ]
     },
     "execution_count": 13,
     "metadata": {},
     "output_type": "execute_result"
    }
   ],
   "source": [
    "print_code_chain.invoke({'question': '请计算包含数字的列的平均值'})"
   ]
  },
  {
   "cell_type": "markdown",
   "id": "0c5a27db",
   "metadata": {},
   "source": [
    "### 二、Langchain 接入自定义的外部工具"
   ]
  },
  {
   "cell_type": "code",
   "execution_count": 16,
   "id": "b0570013",
   "metadata": {},
   "outputs": [],
   "source": [
    "# 导入openweather的api key\n",
    "import os\n",
    "from dotenv import load_dotenv\n",
    "load_dotenv(override=True)\n",
    "\n",
    "openweather_api = os.getenv(\"OPENWEATHER_API_KEY\")"
   ]
  },
  {
   "cell_type": "code",
   "execution_count": 19,
   "id": "be3f66d1",
   "metadata": {},
   "outputs": [],
   "source": [
    "import json,requests\n",
    "def get_weather(loc):\n",
    "    \"\"\"\n",
    "    查询实时天气函数\n",
    "    ：param loc：城市名称；\n",
    "    返回结果是json对象，包含了全部重要的天气信息。\n",
    "    \"\"\"\n",
    "    url = \"https://api.openweathermap.org/data/2.5/weather\"\n",
    "\n",
    "    # 构建参数\n",
    "    params = {\n",
    "        'q': loc,\n",
    "        'appid': openweather_api,\n",
    "        'units': 'metric', # 使用摄氏度\n",
    "        'lang': 'zh_cn' # 输出问简体中文\n",
    "    }\n",
    "\n",
    "    # 发送请求\n",
    "    response = requests.get(url, params=params)\n",
    "\n",
    "    # 解析响应\n",
    "    # 从 HTTP 响应中解析 JSON 内容，通常是一个 dict 或 list 对象。\n",
    "    data = response.json()\n",
    "    # 把 Python 对象（如 dict 或 list）转换成 JSON 格式的字符串\n",
    "    return json.dumps(data)"
   ]
  },
  {
   "cell_type": "code",
   "execution_count": 20,
   "id": "49ee19c3",
   "metadata": {},
   "outputs": [
    {
     "data": {
      "text/plain": [
       "'{\"coord\": {\"lon\": 114.2667, \"lat\": 30.5833}, \"weather\": [{\"id\": 804, \"main\": \"Clouds\", \"description\": \"\\\\u9634\\\\uff0c\\\\u591a\\\\u4e91\", \"icon\": \"04d\"}], \"base\": \"stations\", \"main\": {\"temp\": 34.12, \"feels_like\": 39.36, \"temp_min\": 34.12, \"temp_max\": 34.12, \"pressure\": 1000, \"humidity\": 52, \"sea_level\": 1000, \"grnd_level\": 997}, \"visibility\": 10000, \"wind\": {\"speed\": 2.99, \"deg\": 252, \"gust\": 2.86}, \"clouds\": {\"all\": 97}, \"dt\": 1752481116, \"sys\": {\"country\": \"CN\", \"sunrise\": 1752442192, \"sunset\": 1752492435}, \"timezone\": 28800, \"id\": 1791247, \"name\": \"Wuhan\", \"cod\": 200}'"
      ]
     },
     "execution_count": 20,
     "metadata": {},
     "output_type": "execute_result"
    }
   ],
   "source": [
    "get_weather('Wuhan')"
   ]
  },
  {
   "cell_type": "code",
   "execution_count": 99,
   "id": "9071f993",
   "metadata": {},
   "outputs": [],
   "source": [
    "# 将比较复杂的外部函数添加到chain中，需要调用langchain里面的tool装饰器声明。\n",
    "# 需要注意的是tool在声明的时候需要description，即函数解释，可以写在函数内部注释，也可以在@tool(description参数中描述)\n",
    "from langchain_core.tools import tool\n",
    "@tool\n",
    "def get_weather(loc:str) -> str:\n",
    "    \"\"\"\n",
    "    查询实时天气函数\n",
    "    ：param loc：城市名称（使用城市的对应英文表示，例如输入的是“武汉”，loc对应的是Wuhan，“纽约”，loc对应的是\"New York\"）；\n",
    "    返回结果是json对象，包含了全部重要的天气信息。\n",
    "    \"\"\"\n",
    "    url = \"https://api.openweathermap.org/data/2.5/weather\"\n",
    "    params = {\n",
    "        'q': loc,\n",
    "        'appid': openweather_api,\n",
    "        'units': 'metric', # 使用摄氏度\n",
    "        'lang': 'zh_cn' # 输出问简体中文\n",
    "    }\n",
    "    response = requests.get(url, params=params)\n",
    "    data = response.json()\n",
    "    return json.dumps(data)"
   ]
  },
  {
   "cell_type": "code",
   "execution_count": 93,
   "id": "7c5f0b77",
   "metadata": {},
   "outputs": [
    {
     "name": "stdout",
     "output_type": "stream",
     "text": [
      "get_weather\n",
      "{'loc': {'title': 'Loc', 'type': 'string'}}\n",
      "查询实时天气函数\n",
      "：param loc：城市名称（使用城市的对应英文表示，例如输入的是“武汉”，loc对应的是Wuhan，“纽约”，loc对应的是NewYork）；\n",
      "返回结果是json对象，包含了全部重要的天气信息。\n",
      "name='get_weather' description='查询实时天气函数\\n：param loc：城市名称（使用城市的对应英文表示，例如输入的是“武汉”，loc对应的是Wuhan，“纽约”，loc对应的是NewYork）；\\n返回结果是json对象，包含了全部重要的天气信息。' args_schema=<class 'langchain_core.utils.pydantic.get_weather'> func=<function get_weather at 0x000002A9C3E61E40>\n"
     ]
    }
   ],
   "source": [
    "print(get_weather.name)\n",
    "print(get_weather.args)\n",
    "print(get_weather.description)\n",
    "print(get_weather)"
   ]
  },
  {
   "cell_type": "code",
   "execution_count": 100,
   "id": "71f0897d",
   "metadata": {},
   "outputs": [],
   "source": [
    "# 定义天气查询工具，现在get_weather本身已经是一个工具对象了，直接赋值。\n",
    "weather_tool = [get_weather]\n",
    "\n",
    "# 将工具绑定给模型\n",
    "weather_model_1 = model.bind_tools(weather_tool)"
   ]
  },
  {
   "cell_type": "code",
   "execution_count": 31,
   "id": "b1594cf6",
   "metadata": {},
   "outputs": [
    {
     "data": {
      "text/plain": [
       "AIMessage(content='', additional_kwargs={}, response_metadata={'model': 'llama3.1:8b', 'created_at': '2025-07-14T08:31:21.7545801Z', 'done': True, 'done_reason': 'stop', 'total_duration': 24632400000, 'load_duration': 9207636700, 'prompt_eval_count': 190, 'prompt_eval_duration': 10415706300, 'eval_count': 18, 'eval_duration': 5004656400, 'model_name': 'llama3.1:8b'}, id='run--081c87c5-42ab-48f8-a690-4595707e82b7-0', tool_calls=[{'name': 'get_weather', 'args': {'loc': '武汉'}, 'id': '63365a9c-27f3-48bc-ae90-143cd7123dcf', 'type': 'tool_call'}], usage_metadata={'input_tokens': 190, 'output_tokens': 18, 'total_tokens': 208})"
      ]
     },
     "execution_count": 31,
     "metadata": {},
     "output_type": "execute_result"
    }
   ],
   "source": [
    "weather_model_1.invoke(\"请问武汉的天气怎么样？\")"
   ]
  },
  {
   "cell_type": "code",
   "execution_count": 101,
   "id": "c8722411",
   "metadata": {},
   "outputs": [],
   "source": [
    "weather_model_2 = weather_model_1 | parser"
   ]
  },
  {
   "cell_type": "code",
   "execution_count": 57,
   "id": "d066b01d",
   "metadata": {},
   "outputs": [
    {
     "data": {
      "text/plain": [
       "{'loc': 'Wuhan'}"
      ]
     },
     "execution_count": 57,
     "metadata": {},
     "output_type": "execute_result"
    }
   ],
   "source": [
    "weather_model_2.invoke(\"请问武汉的天气如何？\")"
   ]
  },
  {
   "cell_type": "code",
   "execution_count": 102,
   "id": "d3f69bc9",
   "metadata": {},
   "outputs": [],
   "source": [
    "weather_model_3 = weather_model_2 | get_weather"
   ]
  },
  {
   "cell_type": "code",
   "execution_count": 64,
   "id": "6f90e5fe",
   "metadata": {},
   "outputs": [
    {
     "data": {
      "text/plain": [
       "RunnableBinding(bound=ChatOllama(model='llama3.1:8b', base_url='http://localhost:11434/'), kwargs={'tools': [{'type': 'function', 'function': {'name': 'get_weather', 'description': '查询实时天气函数\\n：param loc：城市名称（使用城市的对应拼音表示，例如输入的是“武汉”，loc对应的是Wuhan）；\\n返回结果是json对象，包含了全部重要的天气信息。', 'parameters': {'properties': {'loc': {'type': 'string'}}, 'required': ['loc'], 'type': 'object'}}}]}, config={}, config_factories=[])\n",
       "| JsonOutputKeyToolsParser(first_tool_only=True, key_name='get_weather')\n",
       "| StructuredTool(name='get_weather', description='查询实时天气函数\\n：param loc：城市名称（使用城市的对应拼音表示，例如输入的是“武汉”，loc对应的是Wuhan）；\\n返回结果是json对象，包含了全部重要的天气信息。', args_schema=<class 'langchain_core.utils.pydantic.get_weather'>, func=<function get_weather at 0x000002A9C0463A60>)"
      ]
     },
     "execution_count": 64,
     "metadata": {},
     "output_type": "execute_result"
    }
   ],
   "source": [
    "weather_model_3"
   ]
  },
  {
   "cell_type": "code",
   "execution_count": 68,
   "id": "de0b09fd",
   "metadata": {},
   "outputs": [
    {
     "data": {
      "text/plain": [
       "'{\"coord\": {\"lon\": 114.2667, \"lat\": 30.5833}, \"weather\": [{\"id\": 804, \"main\": \"Clouds\", \"description\": \"\\\\u9634\\\\uff0c\\\\u591a\\\\u4e91\", \"icon\": \"04d\"}], \"base\": \"stations\", \"main\": {\"temp\": 34.96, \"feels_like\": 41.96, \"temp_min\": 34.96, \"temp_max\": 34.96, \"pressure\": 999, \"humidity\": 59, \"sea_level\": 999, \"grnd_level\": 996}, \"visibility\": 10000, \"wind\": {\"speed\": 1.79, \"deg\": 233, \"gust\": 1.54}, \"clouds\": {\"all\": 98}, \"dt\": 1752482470, \"sys\": {\"country\": \"CN\", \"sunrise\": 1752442192, \"sunset\": 1752492435}, \"timezone\": 28800, \"id\": 1791247, \"name\": \"Wuhan\", \"cod\": 200}'"
      ]
     },
     "execution_count": 68,
     "metadata": {},
     "output_type": "execute_result"
    }
   ],
   "source": [
    "# 输出的是get_weather函数返回的json数据\n",
    "weather_model_3.invoke(\"请问武汉的天气怎么样？\")"
   ]
  },
  {
   "cell_type": "code",
   "execution_count": 103,
   "id": "76b48686",
   "metadata": {},
   "outputs": [],
   "source": [
    "# 第二次传递模型，解析结果，输出人可读的结果。\n",
    "# PromptTemplate和ChatPromptTemplate的区别：\n",
    "    # PromptTemplate：构造一段完整的 prompt 文本，适合传统 text completion 模型\n",
    "    # ChatPromptTemplate：构造一个消息式的聊天结构，适合 chat completion 模型\n",
    "from langchain.prompts import PromptTemplate,ChatPromptTemplate\n",
    "from langchain_core.output_parsers import StrOutputParser\n",
    "prompt = PromptTemplate.from_template(\n",
    "\"\"\"\n",
    "你将收到一段 JSON 格式的天气数据，请用简洁而自然的方式将其转述给用户。\n",
    "\n",
    "以下是天气 JSON 数据：\n",
    "```json\n",
    "{weather_json}\n",
    "```\n",
    "请将其转化为中文天气描述，例如：\n",
    "\"北京当前天气为晴天，气温是23℃，湿度58%，风速2.1米/秒\"\n",
    "只返回描述，不需要解释和其他说明。\n",
    "\"\"\"\n",
    ")"
   ]
  },
  {
   "cell_type": "code",
   "execution_count": 104,
   "id": "78769a9a",
   "metadata": {},
   "outputs": [
    {
     "data": {
      "text/plain": [
       "PromptTemplate(input_variables=['weather_json'], input_types={}, partial_variables={}, template='\\n你将收到一段 JSON 格式的天气数据，请用简洁而自然的方式将其转述给用户。\\n\\n以下是天气 JSON 数据：\\n```json\\n{weather_json}\\n```\\n请将其转化为中文天气描述，例如：\\n\"北京当前天气为晴天，气温是23℃，湿度58%，风速2.1米/秒\"\\n只返回描述，不需要解释和其他说明。\\n')\n",
       "| ChatOllama(model='llama3.1:8b', base_url='http://localhost:11434/')\n",
       "| StrOutputParser()"
      ]
     },
     "execution_count": 104,
     "metadata": {},
     "output_type": "execute_result"
    }
   ],
   "source": [
    "# 构建输出结果解析链\n",
    "output_chain = prompt | model | StrOutputParser()\n",
    "output_chain"
   ]
  },
  {
   "cell_type": "code",
   "execution_count": 111,
   "id": "1a4436dc",
   "metadata": {},
   "outputs": [
    {
     "data": {
      "text/plain": [
       "RunnableBinding(bound=ChatOllama(model='llama3.1:8b', base_url='http://localhost:11434/'), kwargs={'tools': [{'type': 'function', 'function': {'name': 'get_weather', 'description': '查询实时天气函数\\n：param loc：城市名称（使用城市的对应英文表示，例如输入的是“武汉”，loc对应的是Wuhan，“纽约”，loc对应的是\"New York\"）；\\n返回结果是json对象，包含了全部重要的天气信息。', 'parameters': {'properties': {'loc': {'type': 'string'}}, 'required': ['loc'], 'type': 'object'}}}]}, config={}, config_factories=[])\n",
       "| JsonOutputKeyToolsParser(first_tool_only=True, key_name='get_weather')\n",
       "| StructuredTool(name='get_weather', description='查询实时天气函数\\n：param loc：城市名称（使用城市的对应英文表示，例如输入的是“武汉”，loc对应的是Wuhan，“纽约”，loc对应的是\"New York\"）；\\n返回结果是json对象，包含了全部重要的天气信息。', args_schema=<class 'langchain_core.utils.pydantic.get_weather'>, func=<function get_weather at 0x000002A9C1E25940>)\n",
       "| PromptTemplate(input_variables=['weather_json'], input_types={}, partial_variables={}, template='\\n你将收到一段 JSON 格式的天气数据，请用简洁而自然的方式将其转述给用户。\\n\\n以下是天气 JSON 数据：\\n```json\\n{weather_json}\\n```\\n请将其转化为中文天气描述，例如：\\n\"北京当前天气为晴天，气温是23℃，湿度58%，风速2.1米/秒\"\\n只返回描述，不需要解释和其他说明。\\n')\n",
       "| ChatOllama(model='llama3.1:8b', base_url='http://localhost:11434/')\n",
       "| StrOutputParser()"
      ]
     },
     "execution_count": 111,
     "metadata": {},
     "output_type": "execute_result"
    }
   ],
   "source": [
    "weather_final = weather_model_3 | output_chain\n",
    "weather_final"
   ]
  },
  {
   "cell_type": "code",
   "execution_count": 91,
   "id": "30190f53",
   "metadata": {},
   "outputs": [
    {
     "data": {
      "text/plain": [
       "'\"武汉当前天气为多云，气温34.96℃，湿度59%，风速1.79米/秒\"'"
      ]
     },
     "execution_count": 91,
     "metadata": {},
     "output_type": "execute_result"
    }
   ],
   "source": [
    "weather_final.invoke(\"请问武汉天气如何？\")"
   ]
  },
  {
   "cell_type": "code",
   "execution_count": 106,
   "id": "a5d53824",
   "metadata": {},
   "outputs": [
    {
     "data": {
      "text/plain": [
       "'天气信息如下：\\n\\n新욕市当前天气为多云，气温23.45℃，感到的温度24.25℃，最低气温23.45℃，最高气温23.45℃。相对湿度达92%，大气压力为1017，海平面气压1017，地面气压1016。视觉距离10000米。风速为2.38米/秒，风向194度，最大风速4.36米/秒。云层56%。\\n\\n注意：这里只返回天气描述部分，没有包括其他信息，如“北京”这个城市名称等。如果您需要进一步处理请联系我。'"
      ]
     },
     "execution_count": 106,
     "metadata": {},
     "output_type": "execute_result"
    }
   ],
   "source": [
    "# 返回的效果不是很好，需要检查是否中间层传递错误，需要更改限定词或者描述。\n",
    "weather_final.invoke(\"请问纽约天气如何？\")"
   ]
  },
  {
   "cell_type": "code",
   "execution_count": 107,
   "id": "9f6ec4a2",
   "metadata": {},
   "outputs": [
    {
     "data": {
      "text/plain": [
       "'北京当前天气为晴天，气温30.91℃，湿度56%，风速5.02米/秒。'"
      ]
     },
     "execution_count": 107,
     "metadata": {},
     "output_type": "execute_result"
    }
   ],
   "source": [
    "weather_final.invoke(\"请问上海天气如何？\")"
   ]
  },
  {
   "cell_type": "code",
   "execution_count": 113,
   "id": "d87d061d",
   "metadata": {},
   "outputs": [
    {
     "data": {
      "text/plain": [
       "'{\"coord\": {\"lon\": 121.4581, \"lat\": 31.2222}, \"weather\": [{\"id\": 800, \"main\": \"Clear\", \"description\": \"\\\\u6674\", \"icon\": \"01d\"}], \"base\": \"stations\", \"main\": {\"temp\": 31.91, \"feels_like\": 35.72, \"temp_min\": 31.91, \"temp_max\": 31.91, \"pressure\": 999, \"humidity\": 56, \"sea_level\": 999, \"grnd_level\": 998}, \"visibility\": 10000, \"wind\": {\"speed\": 5.02, \"deg\": 9, \"gust\": 6.27}, \"clouds\": {\"all\": 10}, \"dt\": 1752484535, \"sys\": {\"country\": \"CN\", \"sunrise\": 1752440378, \"sunset\": 1752490797}, \"timezone\": 28800, \"id\": 1796236, \"name\": \"Shanghai\", \"cod\": 200}'"
      ]
     },
     "execution_count": 113,
     "metadata": {},
     "output_type": "execute_result"
    }
   ],
   "source": [
    "# 可以获取上海的天气，但是上述回答的是北京的天气，下面对其进行检测\n",
    "get_weather('Shanghai')"
   ]
  },
  {
   "cell_type": "code",
   "execution_count": 109,
   "id": "9dad5df5",
   "metadata": {},
   "outputs": [
    {
     "data": {
      "text/plain": [
       "{'loc': 'Shanghai'}"
      ]
     },
     "execution_count": 109,
     "metadata": {},
     "output_type": "execute_result"
    }
   ],
   "source": [
    "weather_model_2.invoke(\"请问上海的天气如何？\")"
   ]
  },
  {
   "cell_type": "code",
   "execution_count": 110,
   "id": "59a036e4",
   "metadata": {},
   "outputs": [
    {
     "data": {
      "text/plain": [
       "'{\"coord\": {\"lon\": 121.4581, \"lat\": 31.2222}, \"weather\": [{\"id\": 800, \"main\": \"Clear\", \"description\": \"\\\\u6674\", \"icon\": \"01d\"}], \"base\": \"stations\", \"main\": {\"temp\": 31.91, \"feels_like\": 35.72, \"temp_min\": 31.91, \"temp_max\": 31.91, \"pressure\": 999, \"humidity\": 56, \"sea_level\": 999, \"grnd_level\": 998}, \"visibility\": 10000, \"wind\": {\"speed\": 5.02, \"deg\": 9, \"gust\": 6.27}, \"clouds\": {\"all\": 10}, \"dt\": 1752484535, \"sys\": {\"country\": \"CN\", \"sunrise\": 1752440378, \"sunset\": 1752490797}, \"timezone\": 28800, \"id\": 1796236, \"name\": \"Shanghai\", \"cod\": 200}'"
      ]
     },
     "execution_count": 110,
     "metadata": {},
     "output_type": "execute_result"
    }
   ],
   "source": [
    "weather_model_3.invoke(\"请问上海的天气如何？\")"
   ]
  },
  {
   "cell_type": "code",
   "execution_count": 114,
   "id": "8364d686",
   "metadata": {},
   "outputs": [
    {
     "data": {
      "text/plain": [
       "'上海当前天气为晴天，气温31.91℃，湿度56%，风速5.02米/秒'"
      ]
     },
     "execution_count": 114,
     "metadata": {},
     "output_type": "execute_result"
    }
   ],
   "source": [
    "# 二次对接大模型输出，输出有时候符合有时候不符合，可能与大模型的大小能力有关，小模型的效果一般。\n",
    "weather_final.invoke(\"请问上海的天气如何？\")"
   ]
  },
  {
   "cell_type": "code",
   "execution_count": 115,
   "id": "7b162322",
   "metadata": {},
   "outputs": [
    {
     "data": {
      "text/plain": [
       "{'loc': 'Liverpool'}"
      ]
     },
     "execution_count": 115,
     "metadata": {},
     "output_type": "execute_result"
    }
   ],
   "source": [
    "weather_model_2.invoke(\"请问利物浦的天气如何？\")"
   ]
  },
  {
   "cell_type": "code",
   "execution_count": 116,
   "id": "aec94b4e",
   "metadata": {},
   "outputs": [
    {
     "data": {
      "text/plain": [
       "'\"利物浦当前天气为多云，气温21.33℃，湿度63%，风速3.94米/秒，气压1008\"'"
      ]
     },
     "execution_count": 116,
     "metadata": {},
     "output_type": "execute_result"
    }
   ],
   "source": [
    "weather_final.invoke(\"请问利物浦的天气如何？\")"
   ]
  }
 ],
 "metadata": {
  "kernelspec": {
   "display_name": "Langchain_test",
   "language": "python",
   "name": "python3"
  },
  "language_info": {
   "codemirror_mode": {
    "name": "ipython",
    "version": 3
   },
   "file_extension": ".py",
   "mimetype": "text/x-python",
   "name": "python",
   "nbconvert_exporter": "python",
   "pygments_lexer": "ipython3",
   "version": "3.11.13"
  }
 },
 "nbformat": 4,
 "nbformat_minor": 5
}
